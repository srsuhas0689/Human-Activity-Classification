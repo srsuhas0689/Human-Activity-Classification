{
  "cells": [
    {
      "cell_type": "markdown",
      "metadata": {
        "id": "EGlrlC9wUenE"
      },
      "source": [
        "## Import the required libraries\n",
        "\n",
        "First import some important libraries that will be use in the rest of this tutorial:"
      ]
    },
    {
      "cell_type": "code",
      "execution_count": null,
      "metadata": {
        "id": "mQTdZ27VUenF"
      },
      "outputs": [],
      "source": [
        "import os\n",
        "import numpy as np\n",
        "import pandas as pd\n",
        "\n",
        "import matplotlib.pyplot as plt\n",
        "%matplotlib inline"
      ]
    },
    {
      "cell_type": "markdown",
      "metadata": {
        "id": "6vn5nNoeUenH"
      },
      "source": [
        "## A. Examine the first dataset\n",
        "\n",
        "Let's first have a look at the MotionSense dataset. The aim of this task is to understand the structure of the dataset and visualise each motion activity.\n",
        "\n",
        "> The dataset consists of three directories, one for each type of sensor:\n",
        "- A_DeviceMotion_data\n",
        "- B_Accelerometer_data\n",
        "- C_Gyroscope_data\n",
        "\n",
        "In this lab we will only work with the Device Motion sensor as it includes the calibrated data (using sensor fusion) from both Accelerometer and Gyroscope sensors. There is also one directory for each activity session:\n",
        "- **dws**: walking downstairs\n",
        "- **ups**: walking upstairs\n",
        "- **sit**: sitting\n",
        "- **std**: standing\n",
        "- **wlk**: walking\n",
        "- **jog**: jogging\n",
        "\n",
        "Load the data for activity _walking downstairs_ (i.e. `dws_1`) of _Participant 1_ (i.e. `sub_1`) and print the head (i.e. the first 5 rows):"
      ]
    },
    {
      "cell_type": "code",
      "execution_count": null,
      "metadata": {
        "id": "LqC66eRVUenI",
        "outputId": "2bb96e24-afbc-44c2-8606-f79a8c43cb82"
      },
      "outputs": [
        {
          "data": {
            "text/html": [
              "<div>\n",
              "<style scoped>\n",
              "    .dataframe tbody tr th:only-of-type {\n",
              "        vertical-align: middle;\n",
              "    }\n",
              "\n",
              "    .dataframe tbody tr th {\n",
              "        vertical-align: top;\n",
              "    }\n",
              "\n",
              "    .dataframe thead th {\n",
              "        text-align: right;\n",
              "    }\n",
              "</style>\n",
              "<table border=\"1\" class=\"dataframe\">\n",
              "  <thead>\n",
              "    <tr style=\"text-align: right;\">\n",
              "      <th></th>\n",
              "      <th>attitude.roll</th>\n",
              "      <th>attitude.pitch</th>\n",
              "      <th>attitude.yaw</th>\n",
              "      <th>gravity.x</th>\n",
              "      <th>gravity.y</th>\n",
              "      <th>gravity.z</th>\n",
              "      <th>rotationRate.x</th>\n",
              "      <th>rotationRate.y</th>\n",
              "      <th>rotationRate.z</th>\n",
              "      <th>userAcceleration.x</th>\n",
              "      <th>userAcceleration.y</th>\n",
              "      <th>userAcceleration.z</th>\n",
              "    </tr>\n",
              "  </thead>\n",
              "  <tbody>\n",
              "    <tr>\n",
              "      <td>0</td>\n",
              "      <td>1.528132</td>\n",
              "      <td>-0.733896</td>\n",
              "      <td>0.696372</td>\n",
              "      <td>0.741895</td>\n",
              "      <td>0.669768</td>\n",
              "      <td>-0.031672</td>\n",
              "      <td>0.316738</td>\n",
              "      <td>0.778180</td>\n",
              "      <td>1.082764</td>\n",
              "      <td>0.294894</td>\n",
              "      <td>-0.184493</td>\n",
              "      <td>0.377542</td>\n",
              "    </tr>\n",
              "    <tr>\n",
              "      <td>1</td>\n",
              "      <td>1.527992</td>\n",
              "      <td>-0.716987</td>\n",
              "      <td>0.677762</td>\n",
              "      <td>0.753099</td>\n",
              "      <td>0.657116</td>\n",
              "      <td>-0.032255</td>\n",
              "      <td>0.842032</td>\n",
              "      <td>0.424446</td>\n",
              "      <td>0.643574</td>\n",
              "      <td>0.219405</td>\n",
              "      <td>0.035846</td>\n",
              "      <td>0.114866</td>\n",
              "    </tr>\n",
              "    <tr>\n",
              "      <td>2</td>\n",
              "      <td>1.527765</td>\n",
              "      <td>-0.706999</td>\n",
              "      <td>0.670951</td>\n",
              "      <td>0.759611</td>\n",
              "      <td>0.649555</td>\n",
              "      <td>-0.032707</td>\n",
              "      <td>-0.138143</td>\n",
              "      <td>-0.040741</td>\n",
              "      <td>0.343563</td>\n",
              "      <td>0.010714</td>\n",
              "      <td>0.134701</td>\n",
              "      <td>-0.167808</td>\n",
              "    </tr>\n",
              "    <tr>\n",
              "      <td>3</td>\n",
              "      <td>1.516768</td>\n",
              "      <td>-0.704678</td>\n",
              "      <td>0.675735</td>\n",
              "      <td>0.760709</td>\n",
              "      <td>0.647788</td>\n",
              "      <td>-0.041140</td>\n",
              "      <td>-0.025005</td>\n",
              "      <td>-1.048717</td>\n",
              "      <td>0.035860</td>\n",
              "      <td>-0.008389</td>\n",
              "      <td>0.136788</td>\n",
              "      <td>0.094958</td>\n",
              "    </tr>\n",
              "    <tr>\n",
              "      <td>4</td>\n",
              "      <td>1.493941</td>\n",
              "      <td>-0.703918</td>\n",
              "      <td>0.672994</td>\n",
              "      <td>0.760062</td>\n",
              "      <td>0.647210</td>\n",
              "      <td>-0.058530</td>\n",
              "      <td>0.114253</td>\n",
              "      <td>-0.912890</td>\n",
              "      <td>0.047341</td>\n",
              "      <td>0.199441</td>\n",
              "      <td>0.353996</td>\n",
              "      <td>-0.044299</td>\n",
              "    </tr>\n",
              "  </tbody>\n",
              "</table>\n",
              "</div>"
            ],
            "text/plain": [
              "   attitude.roll  attitude.pitch  attitude.yaw  gravity.x  gravity.y  \\\n",
              "0       1.528132       -0.733896      0.696372   0.741895   0.669768   \n",
              "1       1.527992       -0.716987      0.677762   0.753099   0.657116   \n",
              "2       1.527765       -0.706999      0.670951   0.759611   0.649555   \n",
              "3       1.516768       -0.704678      0.675735   0.760709   0.647788   \n",
              "4       1.493941       -0.703918      0.672994   0.760062   0.647210   \n",
              "\n",
              "   gravity.z  rotationRate.x  rotationRate.y  rotationRate.z  \\\n",
              "0  -0.031672        0.316738        0.778180        1.082764   \n",
              "1  -0.032255        0.842032        0.424446        0.643574   \n",
              "2  -0.032707       -0.138143       -0.040741        0.343563   \n",
              "3  -0.041140       -0.025005       -1.048717        0.035860   \n",
              "4  -0.058530        0.114253       -0.912890        0.047341   \n",
              "\n",
              "   userAcceleration.x  userAcceleration.y  userAcceleration.z  \n",
              "0            0.294894           -0.184493            0.377542  \n",
              "1            0.219405            0.035846            0.114866  \n",
              "2            0.010714            0.134701           -0.167808  \n",
              "3           -0.008389            0.136788            0.094958  \n",
              "4            0.199441            0.353996           -0.044299  "
            ]
          },
          "execution_count": 2,
          "metadata": {},
          "output_type": "execute_result"
        }
      ],
      "source": [
        "def read_data(path, filename):\n",
        "    return pd.read_csv(os.path.join(path, filename), index_col=0)\n",
        "\n",
        "df = read_data('../input/motionsense-dataset/A_DeviceMotion_data/A_DeviceMotion_data/dws_1/', 'sub_1.csv')\n",
        "df.head()"
      ]
    },
    {
      "cell_type": "markdown",
      "metadata": {
        "id": "nzuHSNMqUenJ"
      },
      "source": [
        "You can see that since the data has been collected using 3-axis sensors, the dataframe includes three measurements (x, y, and z) for each of the following properties:\n",
        "- Attitude\n",
        "- Gravity\n",
        "- Rotation Rate\n",
        "- User Acceleration\n",
        "\n",
        "For more information about these measurements, visit SensingKit documentation page for [SKDeviceMotionData](http://www.sensingkit.org/documentation/ios/Classes/SKDeviceMotionData.html).\n",
        "\n",
        "In our case, we are interested in a classifier that accurately detects motion activity in any physical alignment that the user has placed the phone in his/her pocket. Thus, the magnitude (resultant vector) of each sensor should be computed since each user places the smartphone in a different physical alignment and individual axis reading will not provided useful information. You can compute the magnitude using the formula:\n",
        "\n",
        "$mag = \\sqrt{x^2 + y^2 + z^2}$\n",
        "\n",
        "We will only focus on the properties User Acceleration and Rotation Rate."
      ]
    },
    {
      "cell_type": "code",
      "execution_count": null,
      "metadata": {
        "id": "6I8QeaZpUenK",
        "outputId": "df81d1c8-5dba-4082-dd8b-3fac66986abc"
      },
      "outputs": [
        {
          "data": {
            "text/html": [
              "<div>\n",
              "<style scoped>\n",
              "    .dataframe tbody tr th:only-of-type {\n",
              "        vertical-align: middle;\n",
              "    }\n",
              "\n",
              "    .dataframe tbody tr th {\n",
              "        vertical-align: top;\n",
              "    }\n",
              "\n",
              "    .dataframe thead th {\n",
              "        text-align: right;\n",
              "    }\n",
              "</style>\n",
              "<table border=\"1\" class=\"dataframe\">\n",
              "  <thead>\n",
              "    <tr style=\"text-align: right;\">\n",
              "      <th></th>\n",
              "      <th>attitude.roll</th>\n",
              "      <th>attitude.pitch</th>\n",
              "      <th>attitude.yaw</th>\n",
              "      <th>gravity.x</th>\n",
              "      <th>gravity.y</th>\n",
              "      <th>gravity.z</th>\n",
              "      <th>rotationRate.x</th>\n",
              "      <th>rotationRate.y</th>\n",
              "      <th>rotationRate.z</th>\n",
              "      <th>userAcceleration.x</th>\n",
              "      <th>userAcceleration.y</th>\n",
              "      <th>userAcceleration.z</th>\n",
              "      <th>userAcceleration.mag</th>\n",
              "      <th>rotationRate.mag</th>\n",
              "    </tr>\n",
              "  </thead>\n",
              "  <tbody>\n",
              "    <tr>\n",
              "      <td>0</td>\n",
              "      <td>1.528132</td>\n",
              "      <td>-0.733896</td>\n",
              "      <td>0.696372</td>\n",
              "      <td>0.741895</td>\n",
              "      <td>0.669768</td>\n",
              "      <td>-0.031672</td>\n",
              "      <td>0.316738</td>\n",
              "      <td>0.778180</td>\n",
              "      <td>1.082764</td>\n",
              "      <td>0.294894</td>\n",
              "      <td>-0.184493</td>\n",
              "      <td>0.377542</td>\n",
              "      <td>0.513360</td>\n",
              "      <td>1.370498</td>\n",
              "    </tr>\n",
              "    <tr>\n",
              "      <td>1</td>\n",
              "      <td>1.527992</td>\n",
              "      <td>-0.716987</td>\n",
              "      <td>0.677762</td>\n",
              "      <td>0.753099</td>\n",
              "      <td>0.657116</td>\n",
              "      <td>-0.032255</td>\n",
              "      <td>0.842032</td>\n",
              "      <td>0.424446</td>\n",
              "      <td>0.643574</td>\n",
              "      <td>0.219405</td>\n",
              "      <td>0.035846</td>\n",
              "      <td>0.114866</td>\n",
              "      <td>0.250235</td>\n",
              "      <td>1.141648</td>\n",
              "    </tr>\n",
              "    <tr>\n",
              "      <td>2</td>\n",
              "      <td>1.527765</td>\n",
              "      <td>-0.706999</td>\n",
              "      <td>0.670951</td>\n",
              "      <td>0.759611</td>\n",
              "      <td>0.649555</td>\n",
              "      <td>-0.032707</td>\n",
              "      <td>-0.138143</td>\n",
              "      <td>-0.040741</td>\n",
              "      <td>0.343563</td>\n",
              "      <td>0.010714</td>\n",
              "      <td>0.134701</td>\n",
              "      <td>-0.167808</td>\n",
              "      <td>0.215450</td>\n",
              "      <td>0.372530</td>\n",
              "    </tr>\n",
              "    <tr>\n",
              "      <td>3</td>\n",
              "      <td>1.516768</td>\n",
              "      <td>-0.704678</td>\n",
              "      <td>0.675735</td>\n",
              "      <td>0.760709</td>\n",
              "      <td>0.647788</td>\n",
              "      <td>-0.041140</td>\n",
              "      <td>-0.025005</td>\n",
              "      <td>-1.048717</td>\n",
              "      <td>0.035860</td>\n",
              "      <td>-0.008389</td>\n",
              "      <td>0.136788</td>\n",
              "      <td>0.094958</td>\n",
              "      <td>0.166728</td>\n",
              "      <td>1.049628</td>\n",
              "    </tr>\n",
              "    <tr>\n",
              "      <td>4</td>\n",
              "      <td>1.493941</td>\n",
              "      <td>-0.703918</td>\n",
              "      <td>0.672994</td>\n",
              "      <td>0.760062</td>\n",
              "      <td>0.647210</td>\n",
              "      <td>-0.058530</td>\n",
              "      <td>0.114253</td>\n",
              "      <td>-0.912890</td>\n",
              "      <td>0.047341</td>\n",
              "      <td>0.199441</td>\n",
              "      <td>0.353996</td>\n",
              "      <td>-0.044299</td>\n",
              "      <td>0.408720</td>\n",
              "      <td>0.921229</td>\n",
              "    </tr>\n",
              "  </tbody>\n",
              "</table>\n",
              "</div>"
            ],
            "text/plain": [
              "   attitude.roll  attitude.pitch  attitude.yaw  gravity.x  gravity.y  \\\n",
              "0       1.528132       -0.733896      0.696372   0.741895   0.669768   \n",
              "1       1.527992       -0.716987      0.677762   0.753099   0.657116   \n",
              "2       1.527765       -0.706999      0.670951   0.759611   0.649555   \n",
              "3       1.516768       -0.704678      0.675735   0.760709   0.647788   \n",
              "4       1.493941       -0.703918      0.672994   0.760062   0.647210   \n",
              "\n",
              "   gravity.z  rotationRate.x  rotationRate.y  rotationRate.z  \\\n",
              "0  -0.031672        0.316738        0.778180        1.082764   \n",
              "1  -0.032255        0.842032        0.424446        0.643574   \n",
              "2  -0.032707       -0.138143       -0.040741        0.343563   \n",
              "3  -0.041140       -0.025005       -1.048717        0.035860   \n",
              "4  -0.058530        0.114253       -0.912890        0.047341   \n",
              "\n",
              "   userAcceleration.x  userAcceleration.y  userAcceleration.z  \\\n",
              "0            0.294894           -0.184493            0.377542   \n",
              "1            0.219405            0.035846            0.114866   \n",
              "2            0.010714            0.134701           -0.167808   \n",
              "3           -0.008389            0.136788            0.094958   \n",
              "4            0.199441            0.353996           -0.044299   \n",
              "\n",
              "   userAcceleration.mag  rotationRate.mag  \n",
              "0              0.513360          1.370498  \n",
              "1              0.250235          1.141648  \n",
              "2              0.215450          0.372530  \n",
              "3              0.166728          1.049628  \n",
              "4              0.408720          0.921229  "
            ]
          },
          "execution_count": 3,
          "metadata": {},
          "output_type": "execute_result"
        }
      ],
      "source": [
        "def produce_magnitude(df, column):\n",
        "    df[column+'.mag'] = np.sqrt(df[column+'.x']**2 + df[column+'.y']**2 + df[column+'.z']**2)\n",
        "\n",
        "produce_magnitude(df, 'userAcceleration')\n",
        "produce_magnitude(df, 'rotationRate')\n",
        "df.head()"
      ]
    },
    {
      "cell_type": "markdown",
      "metadata": {
        "id": "SyTBrznvUenL"
      },
      "source": [
        "Now that magnitude is computed, plot the first 5 seconds of the two signals (i.e. User Acceleration and Rotation Rate) for the following motion activities:\n",
        "- Walking\n",
        "- Jogging\n",
        "\n",
        "Compare the signals of the two different activities. Feel free to change the code and explore more activities of different users."
      ]
    },
    {
      "cell_type": "markdown",
      "metadata": {
        "id": "7YXyRW5QUenL"
      },
      "source": [
        "### Visualise the MotionSense dataset"
      ]
    },
    {
      "cell_type": "markdown",
      "metadata": {
        "id": "0e2JT1EpUenL"
      },
      "source": [
        "We will use `motionsense.py`, a module provided by the MotionSense dataset and facilitates the interaction with the dataset."
      ]
    },
    {
      "cell_type": "code",
      "execution_count": null,
      "metadata": {
        "id": "Z0dKhm9GUenM"
      },
      "outputs": [],
      "source": [
        "import numpy as np\n",
        "import pandas as pd\n",
        "\n",
        "def get_ds_infos():\n",
        "    \"\"\"\n",
        "    Read the file includes data subject information.\n",
        "\n",
        "    Data Columns:\n",
        "    0: code [1-24]\n",
        "    1: weight [kg]\n",
        "    2: height [cm]\n",
        "    3: age [years]\n",
        "    4: gender [0:Female, 1:Male]\n",
        "\n",
        "    Returns:\n",
        "        A pandas DataFrame that contains inforamtion about data subjects' attributes\n",
        "    \"\"\"\n",
        "\n",
        "    dss = pd.read_csv(\"../input/motionsense-dataset/data_subjects_info.csv\")\n",
        "    print(\"[INFO] -- Data subjects' information is imported.\")\n",
        "\n",
        "    return dss\n",
        "\n",
        "def set_data_types(data_types=[\"userAcceleration\"]):\n",
        "    \"\"\"\n",
        "    Select the sensors and the mode to shape the final dataset.\n",
        "\n",
        "    Args:\n",
        "        data_types: A list of sensor data type from this list: [attitude, gravity, rotationRate, userAcceleration]\n",
        "\n",
        "    Returns:\n",
        "        It returns a list of columns to use for creating time-series from files.\n",
        "    \"\"\"\n",
        "    dt_list = []\n",
        "    for t in data_types:\n",
        "        if t != \"attitude\":\n",
        "            dt_list.append([t+\".x\",t+\".y\",t+\".z\"])\n",
        "        else:\n",
        "            dt_list.append([t+\".roll\", t+\".pitch\", t+\".yaw\"])\n",
        "    print(dt_list)\n",
        "    return dt_list\n",
        "\n",
        "\n",
        "def creat_time_series(folder_name, dt_list, act_labels, trial_codes, mode=\"mag\", labeled=True):\n",
        "    \"\"\"\n",
        "    Args:\n",
        "        folder_name: one of 'A_DeviceMotion_data', 'B_Accelerometer_data', or C_Gyroscope_data\n",
        "        dt_list: A list of columns that shows the type of data we want.\n",
        "        act_labels: list of activites\n",
        "        trial_codes: list of trials\n",
        "        mode: It can be 'raw' which means you want raw data\n",
        "        for every dimention of each data type,\n",
        "        [attitude(roll, pitch, yaw); gravity(x, y, z); rotationRate(x, y, z); userAcceleration(x,y,z)].\n",
        "        or it can be 'mag' which means you only want the magnitude for each data type: (x^2+y^2+z^2)^(1/2)\n",
        "        labeled: True, if we want a labeld dataset. False, if we only want sensor values.\n",
        "\n",
        "    Returns:\n",
        "        It returns a time-series of sensor data.\n",
        "\n",
        "    \"\"\"\n",
        "    num_data_cols = len(dt_list) if mode == \"mag\" else len(dt_list*3)\n",
        "\n",
        "    if labeled:\n",
        "        dataset = np.zeros((0,num_data_cols+7)) # \"7\" --> [act, code, weight, height, age, gender, trial]\n",
        "    else:\n",
        "        dataset = np.zeros((0,num_data_cols))\n",
        "\n",
        "    ds_list = get_ds_infos()\n",
        "\n",
        "    print(\"[INFO] -- Creating Time-Series\")\n",
        "    for sub_id in ds_list[\"code\"]:\n",
        "        for act_id, act in enumerate(act_labels):\n",
        "            for trial in trial_codes[act_id]:\n",
        "                fname = folder_name+'/'+act+'_'+str(trial)+'/sub_'+str(int(sub_id))+'.csv'\n",
        "                raw_data = pd.read_csv(fname)\n",
        "                raw_data = raw_data.drop(['Unnamed: 0'], axis=1)\n",
        "                vals = np.zeros((len(raw_data), num_data_cols))\n",
        "                for x_id, axes in enumerate(dt_list):\n",
        "                    if mode == \"mag\":\n",
        "                        vals[:,x_id] = (raw_data[axes]**2).sum(axis=1)**0.5\n",
        "                    else:\n",
        "                        vals[:,x_id*3:(x_id+1)*3] = raw_data[axes].values\n",
        "                    vals = vals[:,:num_data_cols]\n",
        "                if labeled:\n",
        "                    lbls = np.array([[act_id,\n",
        "                            sub_id-1,\n",
        "                            ds_list[\"weight\"][sub_id-1],\n",
        "                            ds_list[\"height\"][sub_id-1],\n",
        "                            ds_list[\"age\"][sub_id-1],\n",
        "                            ds_list[\"gender\"][sub_id-1],\n",
        "                            trial\n",
        "                           ]]*len(raw_data), dtype=int)\n",
        "                    vals = np.concatenate((vals, lbls), axis=1)\n",
        "                dataset = np.append(dataset,vals, axis=0)\n",
        "    cols = []\n",
        "    for axes in dt_list:\n",
        "        if mode == \"raw\":\n",
        "            cols += axes\n",
        "        else:\n",
        "            cols += [str(axes[0][:-2])]\n",
        "\n",
        "    if labeled:\n",
        "        cols += [\"act\", \"id\", \"weight\", \"height\", \"age\", \"gender\", \"trial\"]\n",
        "\n",
        "    dataset = pd.DataFrame(data=dataset, columns=cols)\n",
        "    return dataset\n",
        "#________________________________\n",
        "\n",
        "\n",
        "ACT_LABELS = [\"dws\",\"ups\", \"wlk\", \"jog\", \"std\", \"sit\"]\n",
        "TRIAL_CODES = {\n",
        "    ACT_LABELS[0]:[1,2,11],\n",
        "    ACT_LABELS[1]:[3,4,12],\n",
        "    ACT_LABELS[2]:[7,8,15],\n",
        "    ACT_LABELS[3]:[9,16],\n",
        "    ACT_LABELS[4]:[6,14],\n",
        "    ACT_LABELS[5]:[5,13]\n",
        "}"
      ]
    },
    {
      "cell_type": "markdown",
      "metadata": {
        "id": "g5fmdHtTUenN"
      },
      "source": [
        "Here we set parameter to build labeled time-series from dataset.\n",
        "\n",
        "**attitude(roll, pitch, yaw); gravity(x, y, z); rotationRate(x, y, z); userAcceleration(x,y,z)**\n",
        "\n",
        " For example, here we choose `rotationRate`, `userAcceleration`. You can play with this and add other features such as `gravity` and `attitude` or remove an existing feature."
      ]
    },
    {
      "cell_type": "code",
      "execution_count": null,
      "metadata": {
        "id": "GqOv204kUenN",
        "outputId": "07c85df2-e227-419c-a546-80e4fec6b823"
      },
      "outputs": [
        {
          "name": "stdout",
          "output_type": "stream",
          "text": [
            "Selected sensor data types:\n",
            "['rotationRate', 'userAcceleration']\n",
            "[['rotationRate.x', 'rotationRate.y', 'rotationRate.z'], ['userAcceleration.x', 'userAcceleration.y', 'userAcceleration.z']]\n",
            "\n",
            "Selected columns from dataset:\n",
            "[['rotationRate.x', 'rotationRate.y', 'rotationRate.z'], ['userAcceleration.x', 'userAcceleration.y', 'userAcceleration.z']]\n"
          ]
        }
      ],
      "source": [
        "sdt = [\"rotationRate\", \"userAcceleration\"]\n",
        "print(\"Selected sensor data types:\\n\" + str(sdt))\n",
        "dt_list = set_data_types(sdt)\n",
        "print(\"\\nSelected columns from dataset:\\n\" + str(dt_list))"
      ]
    },
    {
      "cell_type": "markdown",
      "metadata": {
        "id": "8wuSHVWbUenN"
      },
      "source": [
        "Set the list of activities we will use. In our case, we will choose all the activities."
      ]
    },
    {
      "cell_type": "code",
      "execution_count": null,
      "metadata": {
        "id": "gfYvhpQ7UenO",
        "outputId": "c32a7e4c-e106-43a3-b48f-4a7398fedda7"
      },
      "outputs": [
        {
          "name": "stdout",
          "output_type": "stream",
          "text": [
            "Selected activites: ['sit', 'std', 'dws', 'ups', 'wlk', 'jog']\n"
          ]
        }
      ],
      "source": [
        "ACT_LABELS = [\"sit\", \"std\", \"dws\", \"ups\", \"wlk\", \"jog\"]\n",
        "act_labels = ACT_LABELS [0:6]  # all activities\n",
        "print(\"Selected activites: \" + str(act_labels))"
      ]
    },
    {
      "cell_type": "markdown",
      "metadata": {
        "id": "XXPxdAjfUenO"
      },
      "source": [
        "In the MotionSense dataset, several sessions exist for each activity. For instance, 3 sessions (code 7, 8, 15) have been recorded for the _walking_ activity (label 4).\n",
        "\n",
        "So, you can choose which trials you want to be included in your data.\n",
        "\n",
        "```\n",
        "TRIAL_CODES = {\n",
        "    ACT_LABELS[0]:[5,13],\n",
        "    ACT_LABELS[1]:[6,14],\n",
        "    ACT_LABELS[2]:[1,2,11],\n",
        "    ACT_LABELS[3]:[3,4,12],\n",
        "    ACT_LABELS[4]:[7,8,15],\n",
        "    ACT_LABELS[5]:[9,16],\n",
        "}\n",
        "```\n",
        "\n",
        "In our case we will only choose one session for each activity."
      ]
    },
    {
      "cell_type": "code",
      "execution_count": null,
      "metadata": {
        "id": "W-mslAKPUenO",
        "outputId": "9b3d45d6-cc12-4dbd-c486-acd80334d8a1"
      },
      "outputs": [
        {
          "name": "stdout",
          "output_type": "stream",
          "text": [
            "[INFO] -- Selected trials: [[5], [6], [1], [3], [7], [9]]\n"
          ]
        }
      ],
      "source": [
        "TRIAL_CODES = {\n",
        "    ACT_LABELS[0]:[5],\n",
        "    ACT_LABELS[1]:[6],\n",
        "    ACT_LABELS[2]:[1],\n",
        "    ACT_LABELS[3]:[3],\n",
        "    ACT_LABELS[4]:[7],\n",
        "    ACT_LABELS[5]:[9],\n",
        "}\n",
        "trial_codes = [TRIAL_CODES[act] for act in act_labels]\n",
        "print(\"[INFO] -- Selected trials: \" + str(trial_codes))"
      ]
    },
    {
      "cell_type": "markdown",
      "metadata": {
        "id": "_3CFY9qEUenP"
      },
      "source": [
        "* We set `mode=\"mag\"` to compute the magnitude of the three axes.\n",
        "* We set `labeled = True` to get a labeled time-series (here, the label is the type of activity).\n",
        "* We set `combine_grav_acc = False` to use the linear acceleration (total acceleration excluding the gravity)."
      ]
    },
    {
      "cell_type": "code",
      "execution_count": null,
      "metadata": {
        "id": "4d-BLlozUenP",
        "outputId": "710529e3-f94f-4744-d4dd-97ba1fe42567"
      },
      "outputs": [
        {
          "name": "stdout",
          "output_type": "stream",
          "text": [
            "Loading...\n",
            "[INFO] -- Data subjects' information is imported.\n",
            "[INFO] -- Creating Time-Series\n",
            "Finished!\n"
          ]
        },
        {
          "data": {
            "text/html": [
              "<div>\n",
              "<style scoped>\n",
              "    .dataframe tbody tr th:only-of-type {\n",
              "        vertical-align: middle;\n",
              "    }\n",
              "\n",
              "    .dataframe tbody tr th {\n",
              "        vertical-align: top;\n",
              "    }\n",
              "\n",
              "    .dataframe thead th {\n",
              "        text-align: right;\n",
              "    }\n",
              "</style>\n",
              "<table border=\"1\" class=\"dataframe\">\n",
              "  <thead>\n",
              "    <tr style=\"text-align: right;\">\n",
              "      <th></th>\n",
              "      <th>rotationRate</th>\n",
              "      <th>userAcceleration</th>\n",
              "      <th>act</th>\n",
              "      <th>id</th>\n",
              "      <th>weight</th>\n",
              "      <th>height</th>\n",
              "      <th>age</th>\n",
              "      <th>gender</th>\n",
              "      <th>trial</th>\n",
              "    </tr>\n",
              "  </thead>\n",
              "  <tbody>\n",
              "    <tr>\n",
              "      <td>0</td>\n",
              "      <td>0.010253</td>\n",
              "      <td>0.006959</td>\n",
              "      <td>0.0</td>\n",
              "      <td>0.0</td>\n",
              "      <td>102.0</td>\n",
              "      <td>188.0</td>\n",
              "      <td>46.0</td>\n",
              "      <td>1.0</td>\n",
              "      <td>5.0</td>\n",
              "    </tr>\n",
              "    <tr>\n",
              "      <td>1</td>\n",
              "      <td>0.010920</td>\n",
              "      <td>0.010673</td>\n",
              "      <td>0.0</td>\n",
              "      <td>0.0</td>\n",
              "      <td>102.0</td>\n",
              "      <td>188.0</td>\n",
              "      <td>46.0</td>\n",
              "      <td>1.0</td>\n",
              "      <td>5.0</td>\n",
              "    </tr>\n",
              "    <tr>\n",
              "      <td>2</td>\n",
              "      <td>0.008377</td>\n",
              "      <td>0.007010</td>\n",
              "      <td>0.0</td>\n",
              "      <td>0.0</td>\n",
              "      <td>102.0</td>\n",
              "      <td>188.0</td>\n",
              "      <td>46.0</td>\n",
              "      <td>1.0</td>\n",
              "      <td>5.0</td>\n",
              "    </tr>\n",
              "    <tr>\n",
              "      <td>3</td>\n",
              "      <td>0.006555</td>\n",
              "      <td>0.014892</td>\n",
              "      <td>0.0</td>\n",
              "      <td>0.0</td>\n",
              "      <td>102.0</td>\n",
              "      <td>188.0</td>\n",
              "      <td>46.0</td>\n",
              "      <td>1.0</td>\n",
              "      <td>5.0</td>\n",
              "    </tr>\n",
              "    <tr>\n",
              "      <td>4</td>\n",
              "      <td>0.007724</td>\n",
              "      <td>0.013001</td>\n",
              "      <td>0.0</td>\n",
              "      <td>0.0</td>\n",
              "      <td>102.0</td>\n",
              "      <td>188.0</td>\n",
              "      <td>46.0</td>\n",
              "      <td>1.0</td>\n",
              "      <td>5.0</td>\n",
              "    </tr>\n",
              "  </tbody>\n",
              "</table>\n",
              "</div>"
            ],
            "text/plain": [
              "   rotationRate  userAcceleration  act   id  weight  height   age  gender  \\\n",
              "0      0.010253          0.006959  0.0  0.0   102.0   188.0  46.0     1.0   \n",
              "1      0.010920          0.010673  0.0  0.0   102.0   188.0  46.0     1.0   \n",
              "2      0.008377          0.007010  0.0  0.0   102.0   188.0  46.0     1.0   \n",
              "3      0.006555          0.014892  0.0  0.0   102.0   188.0  46.0     1.0   \n",
              "4      0.007724          0.013001  0.0  0.0   102.0   188.0  46.0     1.0   \n",
              "\n",
              "   trial  \n",
              "0    5.0  \n",
              "1    5.0  \n",
              "2    5.0  \n",
              "3    5.0  \n",
              "4    5.0  "
            ]
          },
          "execution_count": 8,
          "metadata": {},
          "output_type": "execute_result"
        }
      ],
      "source": [
        "print(\"Loading...\")\n",
        "dataset = creat_time_series(\"../input/motionsense-dataset/A_DeviceMotion_data/A_DeviceMotion_data\", dt_list, act_labels, trial_codes, mode=\"mag\", labeled=True)\n",
        "print(\"Finished!\")\n",
        "dataset.head()"
      ]
    },
    {
      "cell_type": "markdown",
      "metadata": {
        "id": "USbtCJ7JUenP"
      },
      "source": [
        "Dataset is now loaded under the variable `dataset`.\n",
        "\n",
        "Next, we will visualize the dataset per activity:"
      ]
    },
    {
      "cell_type": "markdown",
      "metadata": {
        "id": "kRoC9GY5UenQ"
      },
      "source": [
        "#### 1. Configure `matplotlib` module:"
      ]
    },
    {
      "cell_type": "code",
      "execution_count": null,
      "metadata": {
        "id": "s3Dm7QkeUenQ"
      },
      "outputs": [],
      "source": [
        "plt.rcParams['figure.figsize'] = (30,8)\n",
        "plt.rcParams['font.size'] = 32\n",
        "plt.rcParams['image.cmap'] = 'plasma'\n",
        "plt.rcParams['axes.linewidth'] = 2\n",
        "clr1 = [\"rs-\",\"r*-\",\"ro-\",\"rv-\",\"rp-\",\"r^-\"]\n",
        "clr2 = [\"bs-\",\"b*-\",\"bo-\",\"bv-\",\"bp-\",\"b^-\"]\n",
        "act_lbl = [\"Sat\", \"Stand-Up\", \"Downstairs\", \"Upstairs\", \"Walking\", \"Jogging\"]\n",
        "lbl = [\"rotation\", \"acceleration\"]"
      ]
    },
    {
      "cell_type": "markdown",
      "metadata": {
        "id": "Vmh-MhAeUenR"
      },
      "source": [
        "#### 2. Set the duration of each time-series plot"
      ]
    },
    {
      "cell_type": "code",
      "execution_count": null,
      "metadata": {
        "id": "u6E6eobKUenR",
        "outputId": "02c5c441-4aa0-47a0-9dfd-c9d0b68ca2ec"
      },
      "outputs": [
        {
          "name": "stdout",
          "output_type": "stream",
          "text": [
            "Data points per time-series: 125\n"
          ]
        }
      ],
      "source": [
        "period = 2.5 # Seconds\n",
        "sample_rate = 50 # Hz\n",
        "points = int(period*sample_rate)\n",
        "x_ticks = np.arange(0.,points/sample_rate,1./sample_rate)\n",
        "print(\"Data points per time-series: \" + str(points))"
      ]
    },
    {
      "cell_type": "markdown",
      "metadata": {
        "id": "ih7PmoCRUenS"
      },
      "source": [
        "#### 3. Plot data per activity"
      ]
    },
    {
      "cell_type": "code",
      "execution_count": null,
      "metadata": {
        "id": "lUhUh0OnUenS",
        "outputId": "35db6f13-0b87-4c0c-9855-eaecb5f17e76"
      },
      "outputs": [
        {
          "data": {
            "text/plain": [
              "<matplotlib.legend.Legend at 0x7f67dcb0d978>"
            ]
          },
          "execution_count": 11,
          "metadata": {},
          "output_type": "execute_result"
        },
        {
          "data": {
            "image/png": "[encoded data removed]",
            "text/plain": [
              "<Figure size 2160x576 with 6 Axes>"
            ]
          },
          "metadata": {
            "needs_background": "light"
          },
          "output_type": "display_data"
        }
      ],
      "source": [
        "act_data = np.zeros((6,points))\n",
        "fig, ax = plt.subplots(1, 6, sharex='col', sharey='row')\n",
        "uid = 12 # We have 24 users in the dataset, uid can be selected from {0,1,...23}\n",
        "for i in np.unique(dataset[\"act\"]):\n",
        "    i =int(i)\n",
        "    data = dataset[(dataset[\"id\"] == uid) & (dataset[\"act\"] == i)]\n",
        "    acc = data[\"userAcceleration\"].values\n",
        "    rot = data[\"rotationRate\"].values\n",
        "    acc = acc[:points]\n",
        "    rot = rot[:points]\n",
        "\n",
        "    if i!=0:\n",
        "        ax[i].plot(x_ticks, rot, \"ro-\", linewidth=2, markersize=8)\n",
        "        ax[i].plot(x_ticks, acc, \"b^-\", linewidth=2, markersize=8)\n",
        "    else:\n",
        "        ax[i].plot(x_ticks, rot, \"ro-\", linewidth=2, markersize=12, label=lbl[0])\n",
        "        ax[i].plot(x_ticks, acc, \"b^-\", linewidth=2, markersize=12, label=lbl[1])\n",
        "\n",
        "    ax[i].set_title(act_lbl[i])\n",
        "plt.setp(ax, yticks=np.arange(0, 11, 2))\n",
        "fig.text(0.5, 0.004, 'second', ha='center')\n",
        "fig.text(0.075, 0.5, 'magnitude value', va='center', rotation='vertical', )\n",
        "ax[0].legend(loc=\"upper center\", fontsize = 20)"
      ]
    },
    {
      "cell_type": "markdown",
      "metadata": {
        "id": "5N2GsaPcUenT"
      },
      "source": [
        "## B. Examine the second dataset\n",
        "\n",
        "In classical machine learning, a feature extraction process is required that converts the raw data into informative features that the model can understand. This process, also known as feature engineering is a time consuming and creative task. We will skip this part by using the [Human Activity Recognition Using Smartphones Data Set](https://archive.ics.uci.edu/ml/datasets/human+activity+recognition+using+smartphones) that includes pre-computed features in fixed-width sliding windows of 2.56 second and 50% overlap (128 readings/window).\n",
        "\n",
        "The data directory includes a `train.csv` file that will be used for training the model, and a `test.csv` file that will be used for validating the model's performance.\n",
        "Examine the dataset to get an idea of its structure."
      ]
    },
    {
      "cell_type": "markdown",
      "metadata": {
        "id": "LqL7k__FUenT"
      },
      "source": [
        "## Load the dataset\n",
        "\n",
        "Load the features of the train set and print the first 5 rows."
      ]
    },
    {
      "cell_type": "code",
      "execution_count": null,
      "metadata": {
        "id": "sUptLTAOUenT",
        "outputId": "5112cee3-88fc-4ebe-a3f7-c535bcb31403"
      },
      "outputs": [
        {
          "data": {
            "text/html": [
              "<div>\n",
              "<style scoped>\n",
              "    .dataframe tbody tr th:only-of-type {\n",
              "        vertical-align: middle;\n",
              "    }\n",
              "\n",
              "    .dataframe tbody tr th {\n",
              "        vertical-align: top;\n",
              "    }\n",
              "\n",
              "    .dataframe thead th {\n",
              "        text-align: right;\n",
              "    }\n",
              "</style>\n",
              "<table border=\"1\" class=\"dataframe\">\n",
              "  <thead>\n",
              "    <tr style=\"text-align: right;\">\n",
              "      <th></th>\n",
              "      <th>tBodyAcc-mean()-X</th>\n",
              "      <th>tBodyAcc-mean()-Y</th>\n",
              "      <th>tBodyAcc-mean()-Z</th>\n",
              "      <th>tBodyAcc-std()-X</th>\n",
              "      <th>tBodyAcc-std()-Y</th>\n",
              "      <th>tBodyAcc-std()-Z</th>\n",
              "      <th>tBodyAcc-mad()-X</th>\n",
              "      <th>tBodyAcc-mad()-Y</th>\n",
              "      <th>tBodyAcc-mad()-Z</th>\n",
              "      <th>tBodyAcc-max()-X</th>\n",
              "      <th>...</th>\n",
              "      <th>fBodyBodyGyroJerkMag-kurtosis()</th>\n",
              "      <th>angle(tBodyAccMean,gravity)</th>\n",
              "      <th>angle(tBodyAccJerkMean),gravityMean)</th>\n",
              "      <th>angle(tBodyGyroMean,gravityMean)</th>\n",
              "      <th>angle(tBodyGyroJerkMean,gravityMean)</th>\n",
              "      <th>angle(X,gravityMean)</th>\n",
              "      <th>angle(Y,gravityMean)</th>\n",
              "      <th>angle(Z,gravityMean)</th>\n",
              "      <th>subject</th>\n",
              "      <th>Activity</th>\n",
              "    </tr>\n",
              "  </thead>\n",
              "  <tbody>\n",
              "    <tr>\n",
              "      <td>0</td>\n",
              "      <td>0.288585</td>\n",
              "      <td>-0.020294</td>\n",
              "      <td>-0.132905</td>\n",
              "      <td>-0.995279</td>\n",
              "      <td>-0.983111</td>\n",
              "      <td>-0.913526</td>\n",
              "      <td>-0.995112</td>\n",
              "      <td>-0.983185</td>\n",
              "      <td>-0.923527</td>\n",
              "      <td>-0.934724</td>\n",
              "      <td>...</td>\n",
              "      <td>-0.710304</td>\n",
              "      <td>-0.112754</td>\n",
              "      <td>0.030400</td>\n",
              "      <td>-0.464761</td>\n",
              "      <td>-0.018446</td>\n",
              "      <td>-0.841247</td>\n",
              "      <td>0.179941</td>\n",
              "      <td>-0.058627</td>\n",
              "      <td>1</td>\n",
              "      <td>STANDING</td>\n",
              "    </tr>\n",
              "    <tr>\n",
              "      <td>1</td>\n",
              "      <td>0.278419</td>\n",
              "      <td>-0.016411</td>\n",
              "      <td>-0.123520</td>\n",
              "      <td>-0.998245</td>\n",
              "      <td>-0.975300</td>\n",
              "      <td>-0.960322</td>\n",
              "      <td>-0.998807</td>\n",
              "      <td>-0.974914</td>\n",
              "      <td>-0.957686</td>\n",
              "      <td>-0.943068</td>\n",
              "      <td>...</td>\n",
              "      <td>-0.861499</td>\n",
              "      <td>0.053477</td>\n",
              "      <td>-0.007435</td>\n",
              "      <td>-0.732626</td>\n",
              "      <td>0.703511</td>\n",
              "      <td>-0.844788</td>\n",
              "      <td>0.180289</td>\n",
              "      <td>-0.054317</td>\n",
              "      <td>1</td>\n",
              "      <td>STANDING</td>\n",
              "    </tr>\n",
              "    <tr>\n",
              "      <td>2</td>\n",
              "      <td>0.279653</td>\n",
              "      <td>-0.019467</td>\n",
              "      <td>-0.113462</td>\n",
              "      <td>-0.995380</td>\n",
              "      <td>-0.967187</td>\n",
              "      <td>-0.978944</td>\n",
              "      <td>-0.996520</td>\n",
              "      <td>-0.963668</td>\n",
              "      <td>-0.977469</td>\n",
              "      <td>-0.938692</td>\n",
              "      <td>...</td>\n",
              "      <td>-0.760104</td>\n",
              "      <td>-0.118559</td>\n",
              "      <td>0.177899</td>\n",
              "      <td>0.100699</td>\n",
              "      <td>0.808529</td>\n",
              "      <td>-0.848933</td>\n",
              "      <td>0.180637</td>\n",
              "      <td>-0.049118</td>\n",
              "      <td>1</td>\n",
              "      <td>STANDING</td>\n",
              "    </tr>\n",
              "    <tr>\n",
              "      <td>3</td>\n",
              "      <td>0.279174</td>\n",
              "      <td>-0.026201</td>\n",
              "      <td>-0.123283</td>\n",
              "      <td>-0.996091</td>\n",
              "      <td>-0.983403</td>\n",
              "      <td>-0.990675</td>\n",
              "      <td>-0.997099</td>\n",
              "      <td>-0.982750</td>\n",
              "      <td>-0.989302</td>\n",
              "      <td>-0.938692</td>\n",
              "      <td>...</td>\n",
              "      <td>-0.482845</td>\n",
              "      <td>-0.036788</td>\n",
              "      <td>-0.012892</td>\n",
              "      <td>0.640011</td>\n",
              "      <td>-0.485366</td>\n",
              "      <td>-0.848649</td>\n",
              "      <td>0.181935</td>\n",
              "      <td>-0.047663</td>\n",
              "      <td>1</td>\n",
              "      <td>STANDING</td>\n",
              "    </tr>\n",
              "    <tr>\n",
              "      <td>4</td>\n",
              "      <td>0.276629</td>\n",
              "      <td>-0.016570</td>\n",
              "      <td>-0.115362</td>\n",
              "      <td>-0.998139</td>\n",
              "      <td>-0.980817</td>\n",
              "      <td>-0.990482</td>\n",
              "      <td>-0.998321</td>\n",
              "      <td>-0.979672</td>\n",
              "      <td>-0.990441</td>\n",
              "      <td>-0.942469</td>\n",
              "      <td>...</td>\n",
              "      <td>-0.699205</td>\n",
              "      <td>0.123320</td>\n",
              "      <td>0.122542</td>\n",
              "      <td>0.693578</td>\n",
              "      <td>-0.615971</td>\n",
              "      <td>-0.847865</td>\n",
              "      <td>0.185151</td>\n",
              "      <td>-0.043892</td>\n",
              "      <td>1</td>\n",
              "      <td>STANDING</td>\n",
              "    </tr>\n",
              "  </tbody>\n",
              "</table>\n",
              "<p>5 rows × 563 columns</p>\n",
              "</div>"
            ],
            "text/plain": [
              "   tBodyAcc-mean()-X  tBodyAcc-mean()-Y  tBodyAcc-mean()-Z  tBodyAcc-std()-X  \\\n",
              "0           0.288585          -0.020294          -0.132905         -0.995279   \n",
              "1           0.278419          -0.016411          -0.123520         -0.998245   \n",
              "2           0.279653          -0.019467          -0.113462         -0.995380   \n",
              "3           0.279174          -0.026201          -0.123283         -0.996091   \n",
              "4           0.276629          -0.016570          -0.115362         -0.998139   \n",
              "\n",
              "   tBodyAcc-std()-Y  tBodyAcc-std()-Z  tBodyAcc-mad()-X  tBodyAcc-mad()-Y  \\\n",
              "0         -0.983111         -0.913526         -0.995112         -0.983185   \n",
              "1         -0.975300         -0.960322         -0.998807         -0.974914   \n",
              "2         -0.967187         -0.978944         -0.996520         -0.963668   \n",
              "3         -0.983403         -0.990675         -0.997099         -0.982750   \n",
              "4         -0.980817         -0.990482         -0.998321         -0.979672   \n",
              "\n",
              "   tBodyAcc-mad()-Z  tBodyAcc-max()-X  ...  fBodyBodyGyroJerkMag-kurtosis()  \\\n",
              "0         -0.923527         -0.934724  ...                        -0.710304   \n",
              "1         -0.957686         -0.943068  ...                        -0.861499   \n",
              "2         -0.977469         -0.938692  ...                        -0.760104   \n",
              "3         -0.989302         -0.938692  ...                        -0.482845   \n",
              "4         -0.990441         -0.942469  ...                        -0.699205   \n",
              "\n",
              "   angle(tBodyAccMean,gravity)  angle(tBodyAccJerkMean),gravityMean)  \\\n",
              "0                    -0.112754                              0.030400   \n",
              "1                     0.053477                             -0.007435   \n",
              "2                    -0.118559                              0.177899   \n",
              "3                    -0.036788                             -0.012892   \n",
              "4                     0.123320                              0.122542   \n",
              "\n",
              "   angle(tBodyGyroMean,gravityMean)  angle(tBodyGyroJerkMean,gravityMean)  \\\n",
              "0                         -0.464761                             -0.018446   \n",
              "1                         -0.732626                              0.703511   \n",
              "2                          0.100699                              0.808529   \n",
              "3                          0.640011                             -0.485366   \n",
              "4                          0.693578                             -0.615971   \n",
              "\n",
              "   angle(X,gravityMean)  angle(Y,gravityMean)  angle(Z,gravityMean)  subject  \\\n",
              "0             -0.841247              0.179941             -0.058627        1   \n",
              "1             -0.844788              0.180289             -0.054317        1   \n",
              "2             -0.848933              0.180637             -0.049118        1   \n",
              "3             -0.848649              0.181935             -0.047663        1   \n",
              "4             -0.847865              0.185151             -0.043892        1   \n",
              "\n",
              "   Activity  \n",
              "0  STANDING  \n",
              "1  STANDING  \n",
              "2  STANDING  \n",
              "3  STANDING  \n",
              "4  STANDING  \n",
              "\n",
              "[5 rows x 563 columns]"
            ]
          },
          "execution_count": 12,
          "metadata": {},
          "output_type": "execute_result"
        }
      ],
      "source": [
        "def read_data(path, filename):\n",
        "    return pd.read_csv(os.path.join(path, filename))\n",
        "\n",
        "df = read_data('../input/human-activity-recognition-with-smartphones', 'train.csv')\n",
        "df.head()"
      ]
    },
    {
      "cell_type": "markdown",
      "metadata": {
        "id": "pPhTJIZgUenU"
      },
      "source": [
        "Now load the labels (ground truth) of the train set and print the first five rows. Remember, the labels (listed in file `activity_labels.txt`) are:\n",
        "\n",
        "1. Walking\n",
        "2. Walking Upstairs\n",
        "3. Walking Downstairs\n",
        "4. Sitting\n",
        "5. Standing\n",
        "6. Laying"
      ]
    },
    {
      "cell_type": "code",
      "execution_count": null,
      "metadata": {
        "id": "4aLDNkKwUenU",
        "outputId": "71df116d-4650-44d6-e5a7-b103a01ade78"
      },
      "outputs": [
        {
          "data": {
            "text/html": [
              "<div>\n",
              "<style scoped>\n",
              "    .dataframe tbody tr th:only-of-type {\n",
              "        vertical-align: middle;\n",
              "    }\n",
              "\n",
              "    .dataframe tbody tr th {\n",
              "        vertical-align: top;\n",
              "    }\n",
              "\n",
              "    .dataframe thead th {\n",
              "        text-align: right;\n",
              "    }\n",
              "</style>\n",
              "<table border=\"1\" class=\"dataframe\">\n",
              "  <thead>\n",
              "    <tr style=\"text-align: right;\">\n",
              "      <th></th>\n",
              "      <th>Activity</th>\n",
              "    </tr>\n",
              "  </thead>\n",
              "  <tbody>\n",
              "    <tr>\n",
              "      <td>0</td>\n",
              "      <td>STANDING</td>\n",
              "    </tr>\n",
              "    <tr>\n",
              "      <td>1</td>\n",
              "      <td>STANDING</td>\n",
              "    </tr>\n",
              "    <tr>\n",
              "      <td>2</td>\n",
              "      <td>STANDING</td>\n",
              "    </tr>\n",
              "    <tr>\n",
              "      <td>3</td>\n",
              "      <td>STANDING</td>\n",
              "    </tr>\n",
              "    <tr>\n",
              "      <td>4</td>\n",
              "      <td>STANDING</td>\n",
              "    </tr>\n",
              "  </tbody>\n",
              "</table>\n",
              "</div>"
            ],
            "text/plain": [
              "   Activity\n",
              "0  STANDING\n",
              "1  STANDING\n",
              "2  STANDING\n",
              "3  STANDING\n",
              "4  STANDING"
            ]
          },
          "execution_count": 13,
          "metadata": {},
          "output_type": "execute_result"
        }
      ],
      "source": [
        "df[['Activity']].head()"
      ]
    },
    {
      "cell_type": "markdown",
      "metadata": {
        "id": "cRl-uwkcUenV"
      },
      "source": [
        "Now that we know how to load individual files, it's time to load the complete dataset and save it under the following four variables:\n",
        "- `train_X`: features used to train the model\n",
        "- `train_y`: labels used to train the model\n",
        "- `test_X`: features used to validate the model\n",
        "- `test_y`: labels used to validate the model"
      ]
    },
    {
      "cell_type": "code",
      "execution_count": null,
      "metadata": {
        "id": "vNYzP86_UenV"
      },
      "outputs": [],
      "source": [
        "def load_dataset(label_dict):\n",
        "    train_X = read_data('../input/human-activity-recognition-with-smartphones', 'train.csv').values[:,:-2]\n",
        "    train_y = read_data('../input/human-activity-recognition-with-smartphones', 'train.csv')['Activity']\n",
        "    train_y = train_y.map(label_dict).values\n",
        "    test_X = read_data('../input/human-activity-recognition-with-smartphones', 'test.csv').values[:,:-2]\n",
        "    test_y = read_data('../input/human-activity-recognition-with-smartphones', 'test.csv')\n",
        "    test_y = test_y['Activity'].map(label_dict).values\n",
        "    return(train_X, train_y, test_X, test_y)\n",
        "label_dict = {'WALKING':0, 'WALKING_UPSTAIRS':1, 'WALKING_DOWNSTAIRS':2, 'SITTING':3, 'STANDING':4, 'LAYING':5}\n",
        "train_X, train_y, test_X, test_y = load_dataset(label_dict)"
      ]
    },
    {
      "cell_type": "markdown",
      "metadata": {
        "id": "9jFNJgmUUenW"
      },
      "source": [
        "## Choose a model\n",
        "\n",
        "We will choose Random Forest as a model with default parameters and 100 number of estimators (`n_estimators` parameter)."
      ]
    },
    {
      "cell_type": "code",
      "execution_count": null,
      "metadata": {
        "id": "eWEO7AVDUenW"
      },
      "outputs": [],
      "source": [
        "from sklearn.ensemble import RandomForestClassifier\n",
        "\n",
        "model = RandomForestClassifier(n_estimators=100)"
      ]
    },
    {
      "cell_type": "markdown",
      "metadata": {
        "id": "wPGV_zXHUenZ"
      },
      "source": [
        "## Train the model\n",
        "\n",
        "Train the model using the features from train set (`train_X`) and the labels as ground truth (`train_y`)."
      ]
    },
    {
      "cell_type": "code",
      "execution_count": null,
      "metadata": {
        "id": "JGHh3a8dUenZ",
        "outputId": "be387f70-5d53-4277-869b-bc3474b95867"
      },
      "outputs": [
        {
          "data": {
            "text/plain": [
              "(7352, 561)"
            ]
          },
          "execution_count": 16,
          "metadata": {},
          "output_type": "execute_result"
        }
      ],
      "source": [
        "train_X.shape"
      ]
    },
    {
      "cell_type": "code",
      "execution_count": null,
      "metadata": {
        "id": "5etwMi58Uen0",
        "outputId": "9ecb517d-0d55-472b-e347-2a3f26c66a25"
      },
      "outputs": [
        {
          "data": {
            "text/plain": [
              "RandomForestClassifier(bootstrap=True, class_weight=None, criterion='gini',\n",
              "                       max_depth=None, max_features='auto', max_leaf_nodes=None,\n",
              "                       min_impurity_decrease=0.0, min_impurity_split=None,\n",
              "                       min_samples_leaf=1, min_samples_split=2,\n",
              "                       min_weight_fraction_leaf=0.0, n_estimators=100,\n",
              "                       n_jobs=None, oob_score=False, random_state=None,\n",
              "                       verbose=0, warm_start=False)"
            ]
          },
          "execution_count": 17,
          "metadata": {},
          "output_type": "execute_result"
        }
      ],
      "source": [
        "model.fit(train_X, train_y)"
      ]
    },
    {
      "cell_type": "markdown",
      "metadata": {
        "id": "Qyu1sRWJUen1"
      },
      "source": [
        "## Evaluate the model\n",
        "\n",
        "Use the trained model to predict the motion activity using the features from test set (`test_X`). Predictions will be saved into `yhat` array."
      ]
    },
    {
      "cell_type": "code",
      "execution_count": null,
      "metadata": {
        "id": "Z6_NEQC-Uen1",
        "outputId": "d24d0aa5-e34c-49c2-e84c-6360138646f0"
      },
      "outputs": [
        {
          "data": {
            "text/plain": [
              "array([4, 4, 4, ..., 1, 1, 1])"
            ]
          },
          "execution_count": 18,
          "metadata": {},
          "output_type": "execute_result"
        }
      ],
      "source": [
        "yhat = model.predict(test_X)\n",
        "yhat"
      ]
    },
    {
      "cell_type": "markdown",
      "metadata": {
        "id": "e4bgXoMiUen2"
      },
      "source": [
        "Print a classification report by comparing the predictions (`yhat`) with the ground truth (`test_y`).\n",
        "\n",
        "What is the difference between precision and recall performances? What is F1 score?"
      ]
    },
    {
      "cell_type": "code",
      "execution_count": null,
      "metadata": {
        "id": "855EDK_NUen2",
        "outputId": "627eb546-acc7-49cb-83a8-fc36ed4933b8"
      },
      "outputs": [
        {
          "name": "stdout",
          "output_type": "stream",
          "text": [
            "                    precision    recall  f1-score   support\n",
            "\n",
            "           Walking       0.89      0.97      0.93       496\n",
            "  Walking Upstairs       0.90      0.91      0.91       471\n",
            "Walking Downstairs       0.96      0.85      0.90       420\n",
            "           Sitting       0.90      0.89      0.90       491\n",
            "          Standing       0.90      0.91      0.91       532\n",
            "            Laying       1.00      1.00      1.00       537\n",
            "\n",
            "          accuracy                           0.92      2947\n",
            "         macro avg       0.93      0.92      0.92      2947\n",
            "      weighted avg       0.93      0.92      0.92      2947\n",
            "\n"
          ]
        }
      ],
      "source": [
        "from sklearn.metrics import classification_report\n",
        "target_names = ['Walking', 'Walking Upstairs', 'Walking Downstairs', 'Sitting', 'Standing', 'Laying']\n",
        "\n",
        "print(classification_report(test_y, yhat, target_names=target_names))"
      ]
    },
    {
      "cell_type": "markdown",
      "metadata": {
        "id": "8JZcMONgUen2"
      },
      "source": [
        "## More\n",
        "\n",
        "Note that this is just a simplified version and excludes other important steps such as experiment with other models, apply parameter tuning, evaluate using cross validation etc.\n",
        "\n",
        "Feel free to experiment with different models (e.g. Logistic Regression, SVM or XGBoost) and/or different model parameters (e.g. `n_estimators`, `max_depth` or `min_samples_split`). What is the impact on the model performance?"
      ]
    },
    {
      "cell_type": "markdown",
      "metadata": {
        "id": "jo3g7vbKUen3"
      },
      "source": [
        "## References"
      ]
    },
    {
      "cell_type": "markdown",
      "metadata": {
        "id": "-RAir3WiUen3"
      },
      "source": [
        "- [MotionSense Data Set](https://github.com/mmalekzadeh/motion-sense)\n",
        "- [Human Activity Recognition Using Smartphones Data Set](https://archive.ics.uci.edu/ml/datasets/human+activity+recognition+using+smartphones)\n",
        "- [Scikit-Learn: Machine Learning in Python](http://scikit-learn.org/stable/)"
      ]
    }
  ],
  "metadata": {
    "kernelspec": {
      "display_name": "Python 3",
      "language": "python",
      "name": "python3"
    },
    "language_info": {
      "codemirror_mode": {
        "name": "ipython",
        "version": 3
      },
      "file_extension": ".py",
      "mimetype": "text/x-python",
      "name": "python",
      "nbconvert_exporter": "python",
      "pygments_lexer": "ipython3",
      "version": "3.6.6"
    },
    "colab": {
      "provenance": []
    }
  },
  "nbformat": 4,
  "nbformat_minor": 0
}